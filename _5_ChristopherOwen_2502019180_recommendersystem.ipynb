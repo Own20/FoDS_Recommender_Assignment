{
  "cells": [
    {
      "cell_type": "markdown",
      "metadata": {
        "id": "8ZonY_oYNjt_"
      },
      "source": [
        "<h3><b> Based on this exercise, discuss the the questions in Quizizz with your group"
      ]
    },
    {
      "cell_type": "markdown",
      "metadata": {
        "id": "k5Xr9Dv4NjuF"
      },
      "source": [
        "Steps in a user-based recommendation system:\n",
        "\n",
        "1. Select a user with the movies the user has watched\n",
        "2. Based on his rating to movies, find the top x neighbours\n",
        "3. Get the watched movie record of the user for each neighbour.\n",
        "4. Calculate a similarity score using some formula\n",
        "5. Recommend the items with the highest score"
      ]
    },
    {
      "cell_type": "code",
      "execution_count": 189,
      "metadata": {
        "id": "m32700SVNjuL"
      },
      "outputs": [],
      "source": [
        "import pandas as pd\n",
        "from math import sqrt\n",
        "import numpy as np\n"
      ]
    },
    {
      "cell_type": "code",
      "execution_count": 190,
      "metadata": {
        "colab": {
          "base_uri": "https://localhost:8080/"
        },
        "id": "maXzLmxGNjuO",
        "outputId": "c933ecd4-1728-4fc6-8276-f8683762cdf4"
      },
      "outputs": [
        {
          "output_type": "stream",
          "name": "stderr",
          "text": [
            "/usr/local/lib/python3.8/dist-packages/IPython/core/interactiveshell.py:3326: DtypeWarning: Columns (3) have mixed types.Specify dtype option on import or set low_memory=False.\n",
            "  exec(code_obj, self.user_global_ns, self.user_ns)\n"
          ]
        },
        {
          "output_type": "stream",
          "name": "stdout",
          "text": [
            "<class 'pandas.core.frame.DataFrame'>\n",
            "RangeIndex: 271360 entries, 0 to 271359\n",
            "Data columns (total 8 columns):\n",
            " #   Column               Non-Null Count   Dtype \n",
            "---  ------               --------------   ----- \n",
            " 0   ISBN                 271360 non-null  object\n",
            " 1   Book-Title           271360 non-null  object\n",
            " 2   Book-Author          271359 non-null  object\n",
            " 3   Year-Of-Publication  271360 non-null  object\n",
            " 4   Publisher            271358 non-null  object\n",
            " 5   Image-URL-S          271360 non-null  object\n",
            " 6   Image-URL-M          271360 non-null  object\n",
            " 7   Image-URL-L          271357 non-null  object\n",
            "dtypes: object(8)\n",
            "memory usage: 16.6+ MB\n",
            "None\n"
          ]
        }
      ],
      "source": [
        "book_df = pd.read_csv('Books.csv')\n",
        "ratings_df = pd.read_csv('Ratings.csv')\n",
        "print(book_df.info())\n",
        "\n"
      ]
    },
    {
      "cell_type": "code",
      "execution_count": 191,
      "metadata": {
        "colab": {
          "base_uri": "https://localhost:8080/"
        },
        "id": "gW_QBJHLNjuP",
        "outputId": "c5d3bec3-d6dd-4f0e-940c-0e226b97d759"
      },
      "outputs": [
        {
          "output_type": "stream",
          "name": "stdout",
          "text": [
            "                                          Book-Title  Book-Rating\n",
            "0  The Bodyguard's Story: Diana, the Crash, and t...          7.0\n",
            "1                               Sans parler du chien          0.0\n",
            "2                                         Life of Pi          9.5\n",
            "3                                         Plateforme          9.0\n",
            "4                           Le chateau des carpathes          8.0\n"
          ]
        }
      ],
      "source": [
        "userInput = [{'Book-Title':'The Bodyguard\\'s Story: Diana, the Crash, and the Sole Survivorn',    'Book-Rating':7.0},\n",
        "             {'Book-Title':'Sans parler du chien',         'Book-Rating':0.0},\n",
        "             {'Book-Title':'Life of Pi', 'Book-Rating':9.5},\n",
        "             {'Book-Title':'Plateforme',                    'Book-Rating':9.0},\n",
        "             {'Book-Title':'Le chateau des carpathes',      'Book-Rating':8.0}]\n",
        "inputbook = pd.DataFrame(userInput)\n",
        "print(inputbook)"
      ]
    },
    {
      "cell_type": "code",
      "execution_count": 192,
      "metadata": {
        "colab": {
          "base_uri": "https://localhost:8080/"
        },
        "id": "SFApFIiDNjuR",
        "outputId": "a3728145-c143-42b0-bfc1-36c0fb69d0f9"
      },
      "outputs": [
        {
          "output_type": "stream",
          "name": "stdout",
          "text": [
            "         ISBN                Book-Title         Book-Author  \\\n",
            "0  0151008116                Life of Pi         Yann Martel   \n",
            "1  0156027321                Life of Pi         Yann Martel   \n",
            "2  1565117794                Life of Pi         Yann Martel   \n",
            "3  184195425X                Life of Pi         Yann Martel   \n",
            "4  2290321028  Le chateau des carpathes         Jules Verne   \n",
            "5  2290324914      Sans parler du chien       Connie Willis   \n",
            "6  2290321230                Plateforme  Michel Houellebecq   \n",
            "7  2080682377                Plateforme  Michel Houellebecq   \n",
            "\n",
            "  Year-Of-Publication         Publisher  \\\n",
            "0                2002          Harcourt   \n",
            "1                2003     Harvest Books   \n",
            "2                2003  Highbridge Audio   \n",
            "3                2004    Pub Group West   \n",
            "4                2002           J'ai lu   \n",
            "5                2003           J'ai lu   \n",
            "6                2003   Distribooks Inc   \n",
            "7                2001        Flammarion   \n",
            "\n",
            "                                         Image-URL-S  \\\n",
            "0  http://images.amazon.com/images/P/0151008116.0...   \n",
            "1  http://images.amazon.com/images/P/0156027321.0...   \n",
            "2  http://images.amazon.com/images/P/1565117794.0...   \n",
            "3  http://images.amazon.com/images/P/184195425X.0...   \n",
            "4  http://images.amazon.com/images/P/2290321028.0...   \n",
            "5  http://images.amazon.com/images/P/2290324914.0...   \n",
            "6  http://images.amazon.com/images/P/2290321230.0...   \n",
            "7  http://images.amazon.com/images/P/2080682377.0...   \n",
            "\n",
            "                                         Image-URL-M  \\\n",
            "0  http://images.amazon.com/images/P/0151008116.0...   \n",
            "1  http://images.amazon.com/images/P/0156027321.0...   \n",
            "2  http://images.amazon.com/images/P/1565117794.0...   \n",
            "3  http://images.amazon.com/images/P/184195425X.0...   \n",
            "4  http://images.amazon.com/images/P/2290321028.0...   \n",
            "5  http://images.amazon.com/images/P/2290324914.0...   \n",
            "6  http://images.amazon.com/images/P/2290321230.0...   \n",
            "7  http://images.amazon.com/images/P/2080682377.0...   \n",
            "\n",
            "                                         Image-URL-L  Book-Rating  \n",
            "0  http://images.amazon.com/images/P/0151008116.0...          9.5  \n",
            "1  http://images.amazon.com/images/P/0156027321.0...          9.5  \n",
            "2  http://images.amazon.com/images/P/1565117794.0...          9.5  \n",
            "3  http://images.amazon.com/images/P/184195425X.0...          9.5  \n",
            "4  http://images.amazon.com/images/P/2290321028.0...          8.0  \n",
            "5  http://images.amazon.com/images/P/2290324914.0...          0.0  \n",
            "6  http://images.amazon.com/images/P/2290321230.0...          9.0  \n",
            "7  http://images.amazon.com/images/P/2080682377.0...          9.0  \n"
          ]
        }
      ],
      "source": [
        "inputId = book_df[book_df['Book-Title'].isin(inputbook['Book-Title'].tolist())]\n",
        "inputbook = pd.merge(inputId, inputbook)\n",
        "# inputMovies = inputMovies.drop('year', 1) #we don't really need this at the moment\n",
        "inputMovies = inputbook[['ISBN','Book-Title','Book-Rating']]\n",
        "print(inputbook)"
      ]
    },
    {
      "cell_type": "markdown",
      "metadata": {
        "id": "r_23sJ1vNjuS"
      },
      "source": [
        "#### Now with the `movieId` in our input, we can now get the subset of users that have watched and reviewed the movies in our input. Find the similar user taste."
      ]
    },
    {
      "cell_type": "code",
      "execution_count": 193,
      "metadata": {
        "colab": {
          "base_uri": "https://localhost:8080/"
        },
        "id": "BmGI-DmrNjuS",
        "outputId": "8101eae0-e1be-4303-d68b-636b4e27de7b"
      },
      "outputs": [
        {
          "output_type": "stream",
          "name": "stdout",
          "text": [
            "            User-ID  Book-Rating\n",
            "ISBN                            \n",
            "0151008116      170          170\n",
            "0156027321      462          462\n",
            "1565117794       11           11\n",
            "184195425X       21           21\n",
            "2080682377        1            1\n",
            "2290321028        2            2\n",
            "2290321230        9            9\n",
            "2290324914        3            3\n"
          ]
        }
      ],
      "source": [
        "userSubset = ratings_df[ratings_df['ISBN'].isin(inputMovies['ISBN'].tolist())]\n",
        "print(userSubset.groupby('ISBN').count())"
      ]
    },
    {
      "cell_type": "code",
      "execution_count": 194,
      "metadata": {
        "colab": {
          "base_uri": "https://localhost:8080/"
        },
        "id": "-1566eb1NjuU",
        "outputId": "796c15b7-0669-4dd2-c517-14f87a7d4f1e"
      },
      "outputs": [
        {
          "output_type": "stream",
          "name": "stdout",
          "text": [
            "[(11676,        User-ID        ISBN  Book-Rating\n",
            "46638    11676  0151008116            6\n",
            "46678    11676  0156027321            6\n",
            "56002    11676  184195425X            0\n",
            "56571    11676  2290321230            0), (25436,         User-ID        ISBN  Book-Rating\n",
            "110097    25436  0156027321            0\n",
            "110211    25436  2290324914            0), (43246,         User-ID        ISBN  Book-Rating\n",
            "193912    43246  0151008116            0\n",
            "193921    43246  0156027321            0), (89602,         User-ID        ISBN  Book-Rating\n",
            "373240    89602  0151008116            0\n",
            "373246    89602  0156027321            0), (125519,         User-ID        ISBN  Book-Rating\n",
            "517843   125519  0156027321            0\n",
            "518051   125519  1565117794           10)]\n"
          ]
        }
      ],
      "source": [
        "#Groupby creates several sub dataframes where they all have the same value in the column specified as the parameter\n",
        "userSubsetGroup = userSubset.groupby(['User-ID'])\n",
        "\n",
        "def take_5_elem(x):\n",
        "    # print (len(x[1]))\n",
        "    return len(x[1])\n",
        "    \n",
        "\n",
        "#Sorting it so users with movie most in common with the input will have priority\n",
        "userSubsetGroup = sorted(userSubsetGroup, key=take_5_elem, reverse=True)\n",
        "\n",
        "userSubsetGroup = userSubsetGroup[0:100]\n",
        "print(userSubsetGroup[0:5])\n"
      ]
    },
    {
      "cell_type": "code",
      "execution_count": 195,
      "metadata": {
        "id": "h_KYBeMtNjuV"
      },
      "outputs": [],
      "source": [
        "#Store the Pearson Correlation in a dictionary, where the key is the user Id and the value is the coefficient\n",
        "pearsonCorrelationDict = {}\n",
        "\n",
        "#For every user group in our subset\n",
        "for name, group in userSubsetGroup:\n",
        "\n",
        "    #Let's start by sorting the input and current user group so the values aren't mixed up later on\n",
        "    group = group.sort_values(by='ISBN')\n",
        "    inputMovies = inputMovies.sort_values(by='ISBN')\n",
        "\n",
        "    #Get the N for the formula\n",
        "    nRatings = len(group)\n",
        "\n",
        "    #Get the review scores for the movies that they both have in common\n",
        "    temp_df = inputMovies[inputMovies['ISBN'].isin(group['ISBN'].tolist())]\n",
        "\n",
        "    #And then store them in a temporary buffer variable in a list format to facilitate future calculations\n",
        "    tempRatingList = temp_df['Book-Rating'].tolist()\n",
        "   \n",
        "    #Let's also put the current user group reviews in a list format\n",
        "    tempGroupList = group['Book-Rating'].tolist()\n",
        "   \n",
        "    \n",
        "    #Now let's calculate the pearson correlation between two users, so called, x and y manually (check the formula from week 7 slide)\n",
        "    Sxx = sum([i**2 for i in tempRatingList]) - pow(sum(tempRatingList),2)/float(nRatings)\n",
        "    Syy = sum([i**2 for i in tempGroupList]) - pow(sum(tempGroupList),2)/float(nRatings)\n",
        "    Sxy = sum( i*j for i, j in zip(tempRatingList, tempGroupList)) - sum(tempRatingList)*sum(tempGroupList)/float(nRatings)\n",
        "\n",
        "    #If the denominator is different than zero, then divide, else, 0 correlation.\n",
        "    if Sxx != 0 and Syy != 0:\n",
        "        pearsonCorrelationDict[name] = Sxy/sqrt(Sxx*Syy)\n",
        "    else:\n",
        "        pearsonCorrelationDict[name] = 0\n",
        "    \n"
      ]
    },
    {
      "cell_type": "code",
      "execution_count": 196,
      "metadata": {
        "colab": {
          "base_uri": "https://localhost:8080/"
        },
        "id": "Ozp4EqHsNjuX",
        "outputId": "03827032-ef1c-4509-de51-2ed110094f1f"
      },
      "outputs": [
        {
          "output_type": "stream",
          "name": "stdout",
          "text": [
            "   similarityIndex  User-ID\n",
            "0          0.57735    11676\n",
            "1          0.00000    25436\n",
            "2          0.00000    43246\n",
            "3          0.00000    89602\n",
            "4          0.00000   125519\n"
          ]
        }
      ],
      "source": [
        "pearsonDF = pd.DataFrame.from_dict(pearsonCorrelationDict, orient='index')\n",
        "pearsonDF.columns = ['similarityIndex']\n",
        "pearsonDF['User-ID'] = pearsonDF.index\n",
        "pearsonDF.index = range(len(pearsonDF))\n",
        "print(pearsonDF.head())"
      ]
    },
    {
      "cell_type": "code",
      "execution_count": 197,
      "metadata": {
        "colab": {
          "base_uri": "https://localhost:8080/"
        },
        "id": "R89syb-KNjuY",
        "outputId": "0c372f91-9b81-405c-8c3b-f7ef724ecaf4"
      },
      "outputs": [
        {
          "output_type": "stream",
          "name": "stdout",
          "text": [
            "    similarityIndex  User-ID\n",
            "0           0.57735    11676\n",
            "63          0.00000    19529\n",
            "73          0.00000    23768\n",
            "72          0.00000    22650\n",
            "71          0.00000    22362\n"
          ]
        }
      ],
      "source": [
        "topUsers=pearsonDF.sort_values(by='similarityIndex', ascending=False)[0:50]\n",
        "print(topUsers.head())"
      ]
    },
    {
      "cell_type": "code",
      "execution_count": 198,
      "metadata": {
        "colab": {
          "base_uri": "https://localhost:8080/"
        },
        "id": "Y5BLrcz7NjuZ",
        "outputId": "6dd49fab-75b2-47a4-b8a5-6a9adcd31c4b"
      },
      "outputs": [
        {
          "output_type": "stream",
          "name": "stdout",
          "text": [
            "    similarityIndex  User-ID            ISBN  Book-Rating\n",
            "0           0.57735    11676      9022906116            7\n",
            "1           0.57735    11676  \\0432534220\\\"\"            6\n",
            "2           0.57735    11676  \\2842053052\\\"\"            7\n",
            "3           0.57735    11676   0 7336 1053 6            0\n",
            "4           0.57735    11676     0=965044153            7\n",
            "..              ...      ...             ...          ...\n",
            "95          0.57735    11676      0006550789            7\n",
            "96          0.57735    11676      0006551076            6\n",
            "97          0.57735    11676      000655220X            9\n",
            "98          0.57735    11676      0006552390            5\n",
            "99          0.57735    11676      0006552412            5\n",
            "\n",
            "[100 rows x 4 columns]\n"
          ]
        }
      ],
      "source": [
        "topUsersRating=topUsers.merge(ratings_df, left_on='User-ID', right_on='User-ID', how='inner')\n",
        "print(topUsersRating.head(100))"
      ]
    },
    {
      "cell_type": "code",
      "execution_count": 199,
      "metadata": {
        "colab": {
          "base_uri": "https://localhost:8080/"
        },
        "id": "xHTIZNdwNjuZ",
        "outputId": "eaba868a-d8ec-4442-bfc0-00c1ee6a8ffb"
      },
      "outputs": [
        {
          "output_type": "stream",
          "name": "stdout",
          "text": [
            "   similarityIndex  User-ID            ISBN  Book-Rating  weightedRating\n",
            "0          0.57735    11676      9022906116            7        4.041452\n",
            "1          0.57735    11676  \\0432534220\\\"\"            6        3.464102\n",
            "2          0.57735    11676  \\2842053052\\\"\"            7        4.041452\n",
            "3          0.57735    11676   0 7336 1053 6            0        0.000000\n",
            "4          0.57735    11676     0=965044153            7        4.041452\n"
          ]
        }
      ],
      "source": [
        "#Multiplies the similarity by the user’s ratings\n",
        "topUsersRating['weightedRating'] = topUsersRating['similarityIndex']*topUsersRating['Book-Rating']\n",
        "print(topUsersRating.head())"
      ]
    },
    {
      "cell_type": "code",
      "execution_count": 200,
      "metadata": {
        "colab": {
          "base_uri": "https://localhost:8080/"
        },
        "id": "nsQ624GXNjua",
        "outputId": "82e518ed-ccf5-4519-b8f3-c4083a35b6ed"
      },
      "outputs": [
        {
          "output_type": "stream",
          "name": "stdout",
          "text": [
            "               sum_similarityIndex  sum_weightedRating\n",
            "ISBN                                                  \n",
            " 9022906116                0.57735            4.041452\n",
            "0 7336 1053 6              0.57735            0.000000\n",
            "0000000000                 0.57735            5.196152\n",
            "00000000000                0.57735            4.618802\n",
            "0001055666                 0.57735            5.196152\n"
          ]
        }
      ],
      "source": [
        "#Applies a sum to the topUsers after grouping it up by movieId\n",
        "tempTopUsersRating = topUsersRating.groupby('ISBN').sum()[['similarityIndex','weightedRating']]\n",
        "tempTopUsersRating.columns = ['sum_similarityIndex','sum_weightedRating']\n",
        "print(tempTopUsersRating.head())"
      ]
    },
    {
      "cell_type": "code",
      "execution_count": 201,
      "metadata": {
        "colab": {
          "base_uri": "https://localhost:8080/"
        },
        "id": "yFLw-nzNNjua",
        "outputId": "044907ca-fbbc-47a0-df95-45adc96578d6"
      },
      "outputs": [
        {
          "output_type": "stream",
          "name": "stdout",
          "text": [
            "               weighted average recommendation score           ISBN\n",
            "ISBN                                                               \n",
            " 9022906116                                      7.0     9022906116\n",
            "0 7336 1053 6                                    0.0  0 7336 1053 6\n",
            "0000000000                                       9.0     0000000000\n",
            "00000000000                                      8.0    00000000000\n",
            "0001055666                                       9.0     0001055666\n",
            "0001837397                                       0.0     0001837397\n",
            "0001841572                                       0.0     0001841572\n",
            "0001848445                                       0.0     0001848445\n",
            "0001900277                                       0.0     0001900277\n",
            "0001941941                                       0.0     0001941941\n"
          ]
        }
      ],
      "source": [
        "#Creates an empty dataframe\n",
        "recommendation_df = pd.DataFrame()\n",
        "\n",
        "#Now we take the weighted average\n",
        "recommendation_df['weighted average recommendation score'] = tempTopUsersRating['sum_weightedRating']/tempTopUsersRating['sum_similarityIndex']\n",
        "recommendation_df['ISBN'] = tempTopUsersRating.index\n",
        "print(recommendation_df.head(10))"
      ]
    },
    {
      "cell_type": "code",
      "execution_count": 202,
      "metadata": {
        "colab": {
          "base_uri": "https://localhost:8080/"
        },
        "id": "A1tNpC07Njuc",
        "outputId": "21fd9f56-3dd1-4791-c3f2-2a366ceac9f0"
      },
      "outputs": [
        {
          "output_type": "stream",
          "name": "stdout",
          "text": [
            "               weighted average recommendation score           ISBN\n",
            "ISBN                                                               \n",
            "0373484232                                      10.0     0373484232\n",
            "3442438241                                      10.0     3442438241\n",
            "0812590457                                      10.0     0812590457\n",
            "0374525641                                      10.0     0374525641\n",
            "0140444416                                      10.0     0140444416\n",
            "...                                              ...            ...\n",
            "B00005WQXK                                       NaN     B00005WQXK\n",
            "B00005Y01P                                       NaN     B00005Y01P\n",
            "B00009NDB8                                       NaN     B00009NDB8\n",
            "N0553212583>>                                    NaN  N0553212583>>\n",
            "O451203771                                       NaN     O451203771\n",
            "\n",
            "[25841 rows x 2 columns]\n"
          ]
        }
      ],
      "source": [
        "recommendation_df = recommendation_df.sort_values(by='weighted average recommendation score', ascending=False)\n",
        "print(recommendation_df)\n"
      ]
    },
    {
      "cell_type": "code",
      "execution_count": 203,
      "metadata": {
        "colab": {
          "base_uri": "https://localhost:8080/",
          "height": 302
        },
        "id": "5liD4u2aNjud",
        "outputId": "a7e45ae3-7631-4ce3-8639-bb7b971b8cd5"
      },
      "outputs": [
        {
          "output_type": "execute_result",
          "data": {
            "text/plain": [
              "          ISBN                   Book-Title           Book-Author  \\\n",
              "1   0002005018                 Clara Callan  Richard Bruce Wright   \n",
              "5   0399135782       The Kitchen God's Wife               Amy Tan   \n",
              "7   0671870432              PLEADING GUILTY           Scott Turow   \n",
              "10  0771074670  Nights Below Station Street  David Adams Richards   \n",
              "18  0440234743                The Testament          John Grisham   \n",
              "\n",
              "   Year-Of-Publication              Publisher  \\\n",
              "1                 2001  HarperFlamingo Canada   \n",
              "5                 1991       Putnam Pub Group   \n",
              "7                 1993             Audioworks   \n",
              "10                1988        Emblem Editions   \n",
              "18                1999                   Dell   \n",
              "\n",
              "                                          Image-URL-S  \\\n",
              "1   http://images.amazon.com/images/P/0002005018.0...   \n",
              "5   http://images.amazon.com/images/P/0399135782.0...   \n",
              "7   http://images.amazon.com/images/P/0671870432.0...   \n",
              "10  http://images.amazon.com/images/P/0771074670.0...   \n",
              "18  http://images.amazon.com/images/P/0440234743.0...   \n",
              "\n",
              "                                          Image-URL-M  \\\n",
              "1   http://images.amazon.com/images/P/0002005018.0...   \n",
              "5   http://images.amazon.com/images/P/0399135782.0...   \n",
              "7   http://images.amazon.com/images/P/0671870432.0...   \n",
              "10  http://images.amazon.com/images/P/0771074670.0...   \n",
              "18  http://images.amazon.com/images/P/0440234743.0...   \n",
              "\n",
              "                                          Image-URL-L  \n",
              "1   http://images.amazon.com/images/P/0002005018.0...  \n",
              "5   http://images.amazon.com/images/P/0399135782.0...  \n",
              "7   http://images.amazon.com/images/P/0671870432.0...  \n",
              "10  http://images.amazon.com/images/P/0771074670.0...  \n",
              "18  http://images.amazon.com/images/P/0440234743.0...  "
            ],
            "text/html": [
              "\n",
              "  <div id=\"df-19cc1ac9-03c1-47d8-bffb-967f9fe4f6c0\">\n",
              "    <div class=\"colab-df-container\">\n",
              "      <div>\n",
              "<style scoped>\n",
              "    .dataframe tbody tr th:only-of-type {\n",
              "        vertical-align: middle;\n",
              "    }\n",
              "\n",
              "    .dataframe tbody tr th {\n",
              "        vertical-align: top;\n",
              "    }\n",
              "\n",
              "    .dataframe thead th {\n",
              "        text-align: right;\n",
              "    }\n",
              "</style>\n",
              "<table border=\"1\" class=\"dataframe\">\n",
              "  <thead>\n",
              "    <tr style=\"text-align: right;\">\n",
              "      <th></th>\n",
              "      <th>ISBN</th>\n",
              "      <th>Book-Title</th>\n",
              "      <th>Book-Author</th>\n",
              "      <th>Year-Of-Publication</th>\n",
              "      <th>Publisher</th>\n",
              "      <th>Image-URL-S</th>\n",
              "      <th>Image-URL-M</th>\n",
              "      <th>Image-URL-L</th>\n",
              "    </tr>\n",
              "  </thead>\n",
              "  <tbody>\n",
              "    <tr>\n",
              "      <th>1</th>\n",
              "      <td>0002005018</td>\n",
              "      <td>Clara Callan</td>\n",
              "      <td>Richard Bruce Wright</td>\n",
              "      <td>2001</td>\n",
              "      <td>HarperFlamingo Canada</td>\n",
              "      <td>http://images.amazon.com/images/P/0002005018.0...</td>\n",
              "      <td>http://images.amazon.com/images/P/0002005018.0...</td>\n",
              "      <td>http://images.amazon.com/images/P/0002005018.0...</td>\n",
              "    </tr>\n",
              "    <tr>\n",
              "      <th>5</th>\n",
              "      <td>0399135782</td>\n",
              "      <td>The Kitchen God's Wife</td>\n",
              "      <td>Amy Tan</td>\n",
              "      <td>1991</td>\n",
              "      <td>Putnam Pub Group</td>\n",
              "      <td>http://images.amazon.com/images/P/0399135782.0...</td>\n",
              "      <td>http://images.amazon.com/images/P/0399135782.0...</td>\n",
              "      <td>http://images.amazon.com/images/P/0399135782.0...</td>\n",
              "    </tr>\n",
              "    <tr>\n",
              "      <th>7</th>\n",
              "      <td>0671870432</td>\n",
              "      <td>PLEADING GUILTY</td>\n",
              "      <td>Scott Turow</td>\n",
              "      <td>1993</td>\n",
              "      <td>Audioworks</td>\n",
              "      <td>http://images.amazon.com/images/P/0671870432.0...</td>\n",
              "      <td>http://images.amazon.com/images/P/0671870432.0...</td>\n",
              "      <td>http://images.amazon.com/images/P/0671870432.0...</td>\n",
              "    </tr>\n",
              "    <tr>\n",
              "      <th>10</th>\n",
              "      <td>0771074670</td>\n",
              "      <td>Nights Below Station Street</td>\n",
              "      <td>David Adams Richards</td>\n",
              "      <td>1988</td>\n",
              "      <td>Emblem Editions</td>\n",
              "      <td>http://images.amazon.com/images/P/0771074670.0...</td>\n",
              "      <td>http://images.amazon.com/images/P/0771074670.0...</td>\n",
              "      <td>http://images.amazon.com/images/P/0771074670.0...</td>\n",
              "    </tr>\n",
              "    <tr>\n",
              "      <th>18</th>\n",
              "      <td>0440234743</td>\n",
              "      <td>The Testament</td>\n",
              "      <td>John Grisham</td>\n",
              "      <td>1999</td>\n",
              "      <td>Dell</td>\n",
              "      <td>http://images.amazon.com/images/P/0440234743.0...</td>\n",
              "      <td>http://images.amazon.com/images/P/0440234743.0...</td>\n",
              "      <td>http://images.amazon.com/images/P/0440234743.0...</td>\n",
              "    </tr>\n",
              "  </tbody>\n",
              "</table>\n",
              "</div>\n",
              "      <button class=\"colab-df-convert\" onclick=\"convertToInteractive('df-19cc1ac9-03c1-47d8-bffb-967f9fe4f6c0')\"\n",
              "              title=\"Convert this dataframe to an interactive table.\"\n",
              "              style=\"display:none;\">\n",
              "        \n",
              "  <svg xmlns=\"http://www.w3.org/2000/svg\" height=\"24px\"viewBox=\"0 0 24 24\"\n",
              "       width=\"24px\">\n",
              "    <path d=\"M0 0h24v24H0V0z\" fill=\"none\"/>\n",
              "    <path d=\"M18.56 5.44l.94 2.06.94-2.06 2.06-.94-2.06-.94-.94-2.06-.94 2.06-2.06.94zm-11 1L8.5 8.5l.94-2.06 2.06-.94-2.06-.94L8.5 2.5l-.94 2.06-2.06.94zm10 10l.94 2.06.94-2.06 2.06-.94-2.06-.94-.94-2.06-.94 2.06-2.06.94z\"/><path d=\"M17.41 7.96l-1.37-1.37c-.4-.4-.92-.59-1.43-.59-.52 0-1.04.2-1.43.59L10.3 9.45l-7.72 7.72c-.78.78-.78 2.05 0 2.83L4 21.41c.39.39.9.59 1.41.59.51 0 1.02-.2 1.41-.59l7.78-7.78 2.81-2.81c.8-.78.8-2.07 0-2.86zM5.41 20L4 18.59l7.72-7.72 1.47 1.35L5.41 20z\"/>\n",
              "  </svg>\n",
              "      </button>\n",
              "      \n",
              "  <style>\n",
              "    .colab-df-container {\n",
              "      display:flex;\n",
              "      flex-wrap:wrap;\n",
              "      gap: 12px;\n",
              "    }\n",
              "\n",
              "    .colab-df-convert {\n",
              "      background-color: #E8F0FE;\n",
              "      border: none;\n",
              "      border-radius: 50%;\n",
              "      cursor: pointer;\n",
              "      display: none;\n",
              "      fill: #1967D2;\n",
              "      height: 32px;\n",
              "      padding: 0 0 0 0;\n",
              "      width: 32px;\n",
              "    }\n",
              "\n",
              "    .colab-df-convert:hover {\n",
              "      background-color: #E2EBFA;\n",
              "      box-shadow: 0px 1px 2px rgba(60, 64, 67, 0.3), 0px 1px 3px 1px rgba(60, 64, 67, 0.15);\n",
              "      fill: #174EA6;\n",
              "    }\n",
              "\n",
              "    [theme=dark] .colab-df-convert {\n",
              "      background-color: #3B4455;\n",
              "      fill: #D2E3FC;\n",
              "    }\n",
              "\n",
              "    [theme=dark] .colab-df-convert:hover {\n",
              "      background-color: #434B5C;\n",
              "      box-shadow: 0px 1px 3px 1px rgba(0, 0, 0, 0.15);\n",
              "      filter: drop-shadow(0px 1px 2px rgba(0, 0, 0, 0.3));\n",
              "      fill: #FFFFFF;\n",
              "    }\n",
              "  </style>\n",
              "\n",
              "      <script>\n",
              "        const buttonEl =\n",
              "          document.querySelector('#df-19cc1ac9-03c1-47d8-bffb-967f9fe4f6c0 button.colab-df-convert');\n",
              "        buttonEl.style.display =\n",
              "          google.colab.kernel.accessAllowed ? 'block' : 'none';\n",
              "\n",
              "        async function convertToInteractive(key) {\n",
              "          const element = document.querySelector('#df-19cc1ac9-03c1-47d8-bffb-967f9fe4f6c0');\n",
              "          const dataTable =\n",
              "            await google.colab.kernel.invokeFunction('convertToInteractive',\n",
              "                                                     [key], {});\n",
              "          if (!dataTable) return;\n",
              "\n",
              "          const docLinkHtml = 'Like what you see? Visit the ' +\n",
              "            '<a target=\"_blank\" href=https://colab.research.google.com/notebooks/data_table.ipynb>data table notebook</a>'\n",
              "            + ' to learn more about interactive tables.';\n",
              "          element.innerHTML = '';\n",
              "          dataTable['output_type'] = 'display_data';\n",
              "          await google.colab.output.renderOutput(dataTable, element);\n",
              "          const docLink = document.createElement('div');\n",
              "          docLink.innerHTML = docLinkHtml;\n",
              "          element.appendChild(docLink);\n",
              "        }\n",
              "      </script>\n",
              "    </div>\n",
              "  </div>\n",
              "  "
            ]
          },
          "metadata": {},
          "execution_count": 203
        }
      ],
      "source": [
        "recommended_movie=book_df.loc[book_df['ISBN'].isin(recommendation_df['ISBN'])]\n",
        "\n",
        "#we don't want to recommend the same movie\n",
        "recommended_movie=recommended_movie.loc[~recommended_movie.ISBN.isin(userSubset['ISBN'])]\n",
        "\n",
        "recommended_movie.head()"
      ]
    },
    {
      "cell_type": "code",
      "execution_count": 203,
      "metadata": {
        "id": "1z7iFHhVNjud"
      },
      "outputs": [],
      "source": []
    }
  ],
  "metadata": {
    "kernelspec": {
      "display_name": "Python 3",
      "language": "python",
      "name": "python3"
    },
    "language_info": {
      "codemirror_mode": {
        "name": "ipython",
        "version": 3
      },
      "file_extension": ".py",
      "mimetype": "text/x-python",
      "name": "python",
      "nbconvert_exporter": "python",
      "pygments_lexer": "ipython3",
      "version": "3.7.4"
    },
    "colab": {
      "provenance": []
    }
  },
  "nbformat": 4,
  "nbformat_minor": 0
}